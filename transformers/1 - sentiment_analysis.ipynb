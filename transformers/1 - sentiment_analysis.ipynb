{
 "cells": [
  {
   "cell_type": "code",
   "execution_count": null,
   "metadata": {},
   "outputs": [],
   "source": [
    "from transform import pipeline\n",
    "\n",
    "# Análise de sentimentos em comentários\n",
    "sentimetn_analyzer = pipeline('sentiment-analysis')\n",
    "comments = ['Ótimo fundo!', 'Retorno abaixo do esperado...']\n",
    "results = sentimetn_analyzer(comments)\n",
    "\n",
    "for comment, result in zip(comments, results):\n",
    "    print(f'Comentário: {comment} | Sentimento: {result[\"label\"]}')"
   ]
  }
 ],
 "metadata": {
  "language_info": {
   "name": "python"
  }
 },
 "nbformat": 4,
 "nbformat_minor": 2
}
