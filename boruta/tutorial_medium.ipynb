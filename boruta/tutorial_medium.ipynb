{
 "cells": [
  {
   "cell_type": "markdown",
   "id": "b40c9ae6",
   "metadata": {},
   "source": [
    "https://medium.com/data-hackers/como-selecionar-melhores-vari%C3%A1veis-para-o-seu-modelo-com-boruta-ef7cbfb3fc35"
   ]
  },
  {
   "cell_type": "code",
   "execution_count": 1,
   "id": "6fc569ef",
   "metadata": {},
   "outputs": [],
   "source": [
    "import pandas as pd\n",
    "from boruta import BorutaPy\n",
    "import inflection\n",
    "from sklearn.ensemble import RandomForestRegressor\n",
    "import math\n",
    "import numpy as np\n"
   ]
  },
  {
   "cell_type": "code",
   "execution_count": null,
   "id": "38b65b85",
   "metadata": {},
   "outputs": [],
   "source": [
    "df6 = pd.read_csv('train.csv', low_memory=False)\n",
    "df6.columns = df6.columns.str.lower()"
   ]
  },
  {
   "cell_type": "code",
   "execution_count": null,
   "id": "896c87a2",
   "metadata": {},
   "outputs": [
    {
     "name": "stdout",
     "output_type": "stream",
     "text": [
      "Iteration: \t1 / 100\n",
      "Confirmed: \t0\n",
      "Tentative: \t9\n",
      "Rejected: \t0\n",
      "Iteration: \t2 / 100\n",
      "Confirmed: \t0\n",
      "Tentative: \t9\n",
      "Rejected: \t0\n",
      "Iteration: \t3 / 100\n",
      "Confirmed: \t0\n",
      "Tentative: \t9\n",
      "Rejected: \t0\n",
      "Iteration: \t4 / 100\n",
      "Confirmed: \t0\n",
      "Tentative: \t9\n",
      "Rejected: \t0\n",
      "Iteration: \t5 / 100\n",
      "Confirmed: \t0\n",
      "Tentative: \t9\n",
      "Rejected: \t0\n",
      "Iteration: \t6 / 100\n",
      "Confirmed: \t0\n",
      "Tentative: \t9\n",
      "Rejected: \t0\n",
      "Iteration: \t7 / 100\n",
      "Confirmed: \t0\n",
      "Tentative: \t9\n",
      "Rejected: \t0\n",
      "Iteration: \t8 / 100\n",
      "Confirmed: \t4\n",
      "Tentative: \t0\n",
      "Rejected: \t5\n",
      "\n",
      "\n",
      "BorutaPy finished running.\n",
      "\n",
      "Iteration: \t9 / 100\n",
      "Confirmed: \t4\n",
      "Tentative: \t0\n",
      "Rejected: \t5\n"
     ]
    }
   ],
   "source": [
    "# training dataset\n",
    "X_train = df6[df6['date'] < '2015-06-19']\n",
    "y_train = X_train['sales']\n",
    "\n",
    "# test dataset\n",
    "X_test = df6[df6['date'] > '2015-06-19']\n",
    "y_test = X_test['sales']\n",
    "\n",
    "# encode categorical columns before dropping 'date' and 'sales'\n",
    "X_train_encoded = pd.get_dummies(X_train.drop(['date', 'sales'], axis=1), drop_first=True)\n",
    "X_train_n = X_train_encoded.values\n",
    "y_train_n = y_train.values.ravel()\n",
    "\n",
    "2808\n",
    "df6efine RandomForestRegressor\n",
    "rf = RandomForestRegressor(n_jobs=-1)\n",
    "\n",
    "# define boruta\n",
    "boruta = BorutaPy(rf, n_estimators='auto', verbose=2, random_state=42).fit(X_train_n, y_train_n)"
   ]
  }
 ],
 "metadata": {
  "kernelspec": {
   "display_name": "Python 3",
   "language": "python",
   "name": "python3"
  },
  "language_info": {
   "codemirror_mode": {
    "name": "ipython",
    "version": 3
   },
   "file_extension": ".py",
   "mimetype": "text/x-python",
   "name": "python",
   "nbconvert_exporter": "python",
   "pygments_lexer": "ipython3",
   "version": "3.13.5"
  }
 },
 "nbformat": 4,
 "nbformat_minor": 5
}
